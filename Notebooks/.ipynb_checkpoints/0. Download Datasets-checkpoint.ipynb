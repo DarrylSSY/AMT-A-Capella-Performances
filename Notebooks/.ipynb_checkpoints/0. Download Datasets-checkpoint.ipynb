{
 "cells": [
  {
   "cell_type": "code",
   "execution_count": 2,
   "id": "e84f70a6",
   "metadata": {},
   "outputs": [
    {
     "name": "stdout",
     "output_type": "stream",
     "text": [
      "Dataset downloaded successfully.\n"
     ]
    }
   ],
   "source": [
    "import requests\n",
    "url = 'https://dagshub.com/kinkusuma/children-song-dataset/archive/master.zip'  # Replace with the actual dataset URL\n",
    "response = requests.get(url)\n",
    "if response.status_code == 200:\n",
    "    with open('children-song-dataset.zip', 'wb') as file:\n",
    "        file.write(response.content)\n",
    "    print('Dataset downloaded successfully.')\n",
    "else:\n",
    "    print('Failed to download dataset. Status code:', response.status_code)"
   ]
  },
  {
   "cell_type": "code",
   "execution_count": null,
   "id": "5e6bb553",
   "metadata": {},
   "outputs": [],
   "source": []
  }
 ],
 "metadata": {
  "kernelspec": {
   "display_name": "Python 3 (ipykernel)",
   "language": "python",
   "name": "python3"
  },
  "language_info": {
   "codemirror_mode": {
    "name": "ipython",
    "version": 3
   },
   "file_extension": ".py",
   "mimetype": "text/x-python",
   "name": "python",
   "nbconvert_exporter": "python",
   "pygments_lexer": "ipython3",
   "version": "3.10.9"
  }
 },
 "nbformat": 4,
 "nbformat_minor": 5
}
