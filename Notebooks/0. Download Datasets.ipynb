{
 "cells": [
  {
   "cell_type": "code",
   "execution_count": 24,
   "id": "c4d10662",
   "metadata": {},
   "outputs": [
    {
     "name": "stdout",
     "output_type": "stream",
     "text": [
      "Dataset downloaded successfully.\n",
      "Dataset downloaded successfully.\n",
      "Dataset downloaded successfully.\n",
      "Dataset downloaded successfully.\n",
      "Dataset downloaded successfully.\n",
      "Dataset downloaded successfully.\n"
     ]
    }
   ],
   "source": [
    "# Acapella Dataset\n",
    "import requests\n",
    "import os\n",
    "\n",
    "os.makedirs(\"acapella\", exist_ok=True)\n",
    "\n",
    "urls = ['https://ipcv.github.io/Acappella/dataset/full_dataset.csv', 'https://ipcv.github.io/Acappella/dataset/splits.json', 'https://ipcv.github.io/Acappella/dataset/train.csv', 'https://ipcv.github.io/Acappella/dataset/val_seen.csv', 'https://ipcv.github.io/Acappella/dataset/test_seen.csv', 'https://ipcv.github.io/Acappella/dataset/test_unseen.csv']\n",
    "filenames = ['acapella/full_dataset.csv', 'acapella/splits.json', 'acapella/train.csv', 'acapella/val_seen.csv', 'acapella/test_seen.csv', 'acapella/test_unseen.csv']\n",
    "for url, route in zip(urls, filenames):\n",
    "    response = requests.get(url) \n",
    "    if response.status_code == 200:\n",
    "        with open(route, 'wb+') as file:\n",
    "            file.write(response.content)\n",
    "        print('Dataset downloaded successfully.')\n",
    "    else:\n",
    "        print('Failed to download dataset. Status code:', response.status_code)"
   ]
  },
  {
   "cell_type": "code",
   "execution_count": 25,
   "id": "27ce5ef3",
   "metadata": {},
   "outputs": [],
   "source": [
    "import pandas as pd\n",
    "full_df =  pd.read_csv(\"./dataset-acapella/full_dataset.csv\")"
   ]
  },
  {
   "cell_type": "code",
   "execution_count": 26,
   "id": "464f07c4",
   "metadata": {},
   "outputs": [
    {
     "data": {
      "text/html": [
       "<div>\n",
       "<style scoped>\n",
       "    .dataframe tbody tr th:only-of-type {\n",
       "        vertical-align: middle;\n",
       "    }\n",
       "\n",
       "    .dataframe tbody tr th {\n",
       "        vertical-align: top;\n",
       "    }\n",
       "\n",
       "    .dataframe thead th {\n",
       "        text-align: right;\n",
       "    }\n",
       "</style>\n",
       "<table border=\"1\" class=\"dataframe\">\n",
       "  <thead>\n",
       "    <tr style=\"text-align: right;\">\n",
       "      <th></th>\n",
       "      <th>ID</th>\n",
       "      <th>Repeat</th>\n",
       "      <th>Init</th>\n",
       "      <th>Fin</th>\n",
       "      <th>Length (s)</th>\n",
       "      <th>Song Name</th>\n",
       "      <th>Link</th>\n",
       "      <th>Comments</th>\n",
       "      <th>Singer</th>\n",
       "      <th>Language</th>\n",
       "      <th>Gender</th>\n",
       "    </tr>\n",
       "  </thead>\n",
       "  <tbody>\n",
       "    <tr>\n",
       "      <th>0</th>\n",
       "      <td>HRLcWZinlIE</td>\n",
       "      <td>0</td>\n",
       "      <td>0.31</td>\n",
       "      <td>3.24</td>\n",
       "      <td>173</td>\n",
       "      <td>Fallout (Marianas Trench)</td>\n",
       "      <td>youtube.com/watch?v=HRLcWZinlIE</td>\n",
       "      <td>NaN</td>\n",
       "      <td>RatedT4Taylor</td>\n",
       "      <td>English</td>\n",
       "      <td>Female</td>\n",
       "    </tr>\n",
       "    <tr>\n",
       "      <th>1</th>\n",
       "      <td>RqS924W5td0</td>\n",
       "      <td>0</td>\n",
       "      <td>0.13</td>\n",
       "      <td>2.37</td>\n",
       "      <td>144</td>\n",
       "      <td>One Step At A Time (Jordan Sparks)</td>\n",
       "      <td>youtube.com/watch?v=RqS924W5td0</td>\n",
       "      <td>Shaky video</td>\n",
       "      <td>RatedT4Taylor</td>\n",
       "      <td>English</td>\n",
       "      <td>Female</td>\n",
       "    </tr>\n",
       "    <tr>\n",
       "      <th>2</th>\n",
       "      <td>DFLdkLJtXMQ</td>\n",
       "      <td>0</td>\n",
       "      <td>1.05</td>\n",
       "      <td>4.12</td>\n",
       "      <td>187</td>\n",
       "      <td>Here We Go Again (Demi Lovato)</td>\n",
       "      <td>youtube.com/watch?v=DFLdkLJtXMQ</td>\n",
       "      <td>NaN</td>\n",
       "      <td>RatedT4Taylor</td>\n",
       "      <td>English</td>\n",
       "      <td>Female</td>\n",
       "    </tr>\n",
       "    <tr>\n",
       "      <th>3</th>\n",
       "      <td>srcUfoFM6xw</td>\n",
       "      <td>0</td>\n",
       "      <td>2.16</td>\n",
       "      <td>5.15</td>\n",
       "      <td>179</td>\n",
       "      <td>The Popular Song (Mika, Ariana Grande)</td>\n",
       "      <td>youtube.com/watch?v=srcUfoFM6xw</td>\n",
       "      <td>NaN</td>\n",
       "      <td>RatedT4Taylor</td>\n",
       "      <td>English</td>\n",
       "      <td>Female</td>\n",
       "    </tr>\n",
       "    <tr>\n",
       "      <th>4</th>\n",
       "      <td>58aERSfiY6c</td>\n",
       "      <td>0</td>\n",
       "      <td>1.49</td>\n",
       "      <td>4.52</td>\n",
       "      <td>183</td>\n",
       "      <td>Stay (Rihanna)</td>\n",
       "      <td>youtube.com/watch?v=58aERSfiY6c</td>\n",
       "      <td>NaN</td>\n",
       "      <td>RatedT4Taylor</td>\n",
       "      <td>English</td>\n",
       "      <td>Female</td>\n",
       "    </tr>\n",
       "  </tbody>\n",
       "</table>\n",
       "</div>"
      ],
      "text/plain": [
       "            ID  Repeat  Init   Fin  Length (s)  \\\n",
       "0  HRLcWZinlIE       0  0.31  3.24         173   \n",
       "1  RqS924W5td0       0  0.13  2.37         144   \n",
       "2  DFLdkLJtXMQ       0  1.05  4.12         187   \n",
       "3  srcUfoFM6xw       0  2.16  5.15         179   \n",
       "4  58aERSfiY6c       0  1.49  4.52         183   \n",
       "\n",
       "                                Song Name                             Link  \\\n",
       "0               Fallout (Marianas Trench)  youtube.com/watch?v=HRLcWZinlIE   \n",
       "1      One Step At A Time (Jordan Sparks)  youtube.com/watch?v=RqS924W5td0   \n",
       "2          Here We Go Again (Demi Lovato)  youtube.com/watch?v=DFLdkLJtXMQ   \n",
       "3  The Popular Song (Mika, Ariana Grande)  youtube.com/watch?v=srcUfoFM6xw   \n",
       "4                          Stay (Rihanna)  youtube.com/watch?v=58aERSfiY6c   \n",
       "\n",
       "      Comments         Singer Language  Gender  \n",
       "0          NaN  RatedT4Taylor  English  Female  \n",
       "1  Shaky video  RatedT4Taylor  English  Female  \n",
       "2          NaN  RatedT4Taylor  English  Female  \n",
       "3          NaN  RatedT4Taylor  English  Female  \n",
       "4          NaN  RatedT4Taylor  English  Female  "
      ]
     },
     "execution_count": 26,
     "metadata": {},
     "output_type": "execute_result"
    }
   ],
   "source": [
    "full_df.head()"
   ]
  },
  {
   "cell_type": "code",
   "execution_count": 29,
   "id": "fc5101ac",
   "metadata": {},
   "outputs": [
    {
     "name": "stdout",
     "output_type": "stream",
     "text": [
      "[youtube] Extracting URL: HRLcWZinlIE\n",
      "[youtube] HRLcWZinlIE: Downloading webpage\n",
      "[youtube] HRLcWZinlIE: Downloading ios player API JSON\n",
      "[youtube] HRLcWZinlIE: Downloading android player API JSON\n",
      "[youtube] HRLcWZinlIE: Downloading m3u8 information\n",
      "[info] HRLcWZinlIE: Downloading 1 format(s): 243+140\n",
      "[info] HRLcWZinlIE: Downloading 1 time ranges: 31.0-204.0\n",
      "[download] ..\\downloads\\Fallout - Marianas Trench Cover [HRLcWZinlIE].mkv has already been downloaded\n"
     ]
    }
   ],
   "source": [
    "# Using yt-dlp to download yt vids at selected timings\n",
    "# https://github.com/yt-dlp/yt-dlp for documentation. Can dl in specific media formats and separate audio and video content as well\n",
    "\n",
    "# This cmd downloads the first vid in the full_df\n",
    "!python ../yt-dlp --download-sections \"*0:31-3:24\" -P \"../downloads\" \"HRLcWZinlIE\""
   ]
  },
  {
   "cell_type": "code",
   "execution_count": null,
   "id": "53a207c0",
   "metadata": {},
   "outputs": [],
   "source": []
  }
 ],
 "metadata": {
  "kernelspec": {
   "display_name": "Python 3 (ipykernel)",
   "language": "python",
   "name": "python3"
  },
  "language_info": {
   "codemirror_mode": {
    "name": "ipython",
    "version": 3
   },
   "file_extension": ".py",
   "mimetype": "text/x-python",
   "name": "python",
   "nbconvert_exporter": "python",
   "pygments_lexer": "ipython3",
   "version": "3.10.9"
  }
 },
 "nbformat": 4,
 "nbformat_minor": 5
}
