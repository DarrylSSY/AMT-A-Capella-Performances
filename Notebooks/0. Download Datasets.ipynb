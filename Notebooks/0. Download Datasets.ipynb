{
 "cells": [
  {
   "cell_type": "code",
   "execution_count": 14,
   "id": "c4d10662",
   "metadata": {},
   "outputs": [
    {
     "name": "stdout",
     "output_type": "stream",
     "text": [
      "Dataset downloaded successfully.\n",
      "Dataset downloaded successfully.\n",
      "Dataset downloaded successfully.\n",
      "Dataset downloaded successfully.\n",
      "Dataset downloaded successfully.\n",
      "Dataset downloaded successfully.\n"
     ]
    }
   ],
   "source": [
    "# Acapella Dataset\n",
    "import requests\n",
    "import os\n",
    "\n",
    "os.makedirs(\"acapella\", exist_ok=True)\n",
    "\n",
    "urls = ['https://ipcv.github.io/Acappella/dataset/full_dataset.csv', 'https://ipcv.github.io/Acappella/dataset/splits.json', 'https://ipcv.github.io/Acappella/dataset/train.csv', 'https://ipcv.github.io/Acappella/dataset/val_seen.csv', 'https://ipcv.github.io/Acappella/dataset/test_seen.csv', 'https://ipcv.github.io/Acappella/dataset/test_unseen.csv']\n",
    "filenames = ['acapella/full_dataset.csv', 'acapella/splits.json', 'acapella/train.csv', 'acapella/val_seen.csv', 'acapella/test_seen.csv', 'acapella/test_unseen.csv']\n",
    "for url, route in zip(urls, filenames):\n",
    "    response = requests.get(url) \n",
    "    if response.status_code == 200:\n",
    "        with open(route, 'wb+') as file:\n",
    "            file.write(response.content)\n",
    "        print('Dataset downloaded successfully.')\n",
    "    else:\n",
    "        print('Failed to download dataset. Status code:', response.status_code)"
   ]
  },
  {
   "cell_type": "code",
   "execution_count": null,
   "id": "27ce5ef3",
   "metadata": {},
   "outputs": [],
   "source": []
  },
  {
   "cell_type": "code",
   "execution_count": null,
   "id": "464f07c4",
   "metadata": {},
   "outputs": [],
   "source": []
  }
 ],
 "metadata": {
  "kernelspec": {
   "display_name": "Python 3 (ipykernel)",
   "language": "python",
   "name": "python3"
  },
  "language_info": {
   "codemirror_mode": {
    "name": "ipython",
    "version": 3
   },
   "file_extension": ".py",
   "mimetype": "text/x-python",
   "name": "python",
   "nbconvert_exporter": "python",
   "pygments_lexer": "ipython3",
   "version": "3.10.9"
  }
 },
 "nbformat": 4,
 "nbformat_minor": 5
}
