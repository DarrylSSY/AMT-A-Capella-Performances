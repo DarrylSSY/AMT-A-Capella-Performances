{
 "cells": [
  {
   "cell_type": "markdown",
   "id": "a12d9208",
   "metadata": {},
   "source": [
    "# Separating A Capella Songs into their Separated Vocal Tracks using Spleeter"
   ]
  },
  {
   "cell_type": "code",
   "execution_count": null,
   "id": "5e7d403c",
   "metadata": {},
   "outputs": [],
   "source": [
    "# Code source credit: https://github.com/deezer/spleeter/wiki/2.-Getting-started"
   ]
  },
  {
   "cell_type": "code",
   "execution_count": null,
   "id": "bef059c0cef5f168",
   "metadata": {
    "is_executing": true
   },
   "outputs": [],
   "source": [
    "# import necessary libraries\n",
    "import librosa\n",
    "import soundfile as sf\n",
    "import numpy as np\n",
    "import os\n",
    "from IPython.display import Audio\n",
    "import random\n"
   ]
  },
  {
   "cell_type": "code",
   "execution_count": null,
   "id": "da0264e0b4196b90",
   "metadata": {
    "ExecuteTime": {
     "end_time": "2023-10-30T14:34:17.879879300Z",
     "start_time": "2023-10-30T14:34:16.854891200Z"
    }
   },
   "outputs": [],
   "source": [
    "# get duration of a song\n",
    "def get_duration(filename):\n",
    "    y, sr = librosa.load(filename)\n",
    "    duration = librosa.get_duration(y=y, sr=sr)\n",
    "    return duration\n",
    "\n",
    "# Add to csv file\n",
    "def add_to_csv(mix_path, alto_path, bass_path, lead_vocal_path, soprano_path, tenor_path, vocal_percussion_path, csv_path):\n",
    "    # print(\"adding\")\n",
    "    duration = get_duration(mix_path)\n",
    "    with open(csv_path, 'a') as f:\n",
    "        f.write(mix_path + ',' + alto_path + ',' + bass_path + ',' + lead_vocal_path + ',' + soprano_path + ',' + tenor_path + ',' + vocal_percussion_path + ',' + str(duration) + '\\n')\n",
    "\n",
    "# Put audio tracks from dataset into training csv file\n",
    "def create_training_file():\n",
    "    if not os.path.exists('spleeter/configs/jacapella_train.csv'):\n",
    "        # Add column heading mix_path,alto_path,bass_path,lead_vocal_path,soprano_path,tenor_path,vocal_percussion_path,duration\n",
    "        with open('spleeter/configs/jacapella_train.csv', 'a') as f:\n",
    "            f.write('mix_path,alto_path,bass_path,lead_vocal_path,soprano_path,tenor_path,vocal_percussion_path,duration\\n')\n",
    "        for genre in [filename for filename in os.listdir('Dataset/Jacapella') if os.path.isdir(os.path.join('Dataset/Jacapella',filename))]:\n",
    "            for song in [filename for filename in os.listdir('Dataset/Jacapella/'+genre) if os.path.isdir(os.path.join('Dataset/Jacapella/'+genre,filename))]:\n",
    "                mix_path = 'Dataset/Jacapella/' + genre + '/' + song + '/mixture.wav'\n",
    "                alto_path = 'Dataset/Jacapella/' + genre + '/' + song + '/alto.wav'\n",
    "                bass_path = 'Dataset/Jacapella/' + genre + '/' + song + '/bass.wav'\n",
    "                lead_vocal_path = 'Dataset/Jacapella/' + genre + '/' + song + '/lead_vocal.wav'\n",
    "                soprano_path = 'Dataset/Jacapella/' + genre + '/' + song + '/soprano.wav'\n",
    "                tenor_path = 'Dataset/Jacapella/' + genre + '/' + song + '/tenor.wav'\n",
    "                vocal_percussion_path = 'Dataset/Jacapella/' + genre + '/' + song + '/vocal_percussion.wav'\n",
    "                add_to_csv(mix_path, alto_path, bass_path, lead_vocal_path, soprano_path, tenor_path, vocal_percussion_path, 'spleeter/configs/jacapella_train.csv')\n",
    "    print(\"Training file created\") \n",
    "\n",
    "# sample 5 random songs from training csv to validation csv\n",
    "def create_validation_file():\n",
    "    if not os.path.exists('spleeter/configs/jacapella_validation.csv'):\n",
    "        # Add column heading mix_path,alto_path,bass_path,lead_vocal_path,soprano_path,tenor_path,vocal_percussion_path,duration\n",
    "        with open('spleeter/configs/jacapella_validation.csv', 'a') as f:\n",
    "            f.write('mix_path,alto_path,bass_path,lead_vocal_path,soprano_path,tenor_path,vocal_percussion_path,duration\\n')\n",
    "        with open('spleeter/configs/jacapella_train.csv', 'r') as f:\n",
    "            # exclude column heading\n",
    "            lines = f.readlines()[1:]\n",
    "            random.shuffle(lines)\n",
    "            for line in lines[:5]:\n",
    "                with open('spleeter/configs/jacapella_validation.csv', 'a') as f:\n",
    "                    f.write(line)\n",
    "                # remove those lines from training csv\n",
    "                lines.remove(line)\n",
    "    print(\"Validation file created\")\n",
    "\n"
   ]
  },
  {
   "cell_type": "code",
   "execution_count": null,
   "id": "366e79b8",
   "metadata": {},
   "outputs": [],
   "source": [
    "# Train Spleeter\n",
    "def audio_train_spleeter():\n",
    "    create_training_file()\n",
    "    create_validation_file()\n",
    "    # print(\"Audio separation trained\") \n"
   ]
  },
  {
   "cell_type": "code",
   "execution_count": null,
   "id": "eec90b1c",
   "metadata": {},
   "outputs": [],
   "source": [
    "audio_train_spleeter()"
   ]
  },
  {
   "cell_type": "code",
   "execution_count": null,
   "id": "41c89fe6",
   "metadata": {},
   "outputs": [],
   "source": [
    "!spleeter train -p spleeter/configs/jacapella_config.json -d '/spleeter'\n"
   ]
  },
  {
   "cell_type": "code",
   "execution_count": null,
   "id": "2432c8b8",
   "metadata": {
    "scrolled": true
   },
   "outputs": [],
   "source": [
    "!spleeter separate -p spleeter/configs/jacapella_config.json -o output Dataset/Jacapella/popular/akatonbo/mixture.wav"
   ]
  },
  {
   "cell_type": "code",
   "execution_count": null,
   "id": "ecec2725",
   "metadata": {},
   "outputs": [],
   "source": []
  }
 ],
 "metadata": {
  "kernelspec": {
   "display_name": "Python 3 (ipykernel)",
   "language": "python",
   "name": "python3"
  },
  "language_info": {
   "codemirror_mode": {
    "name": "ipython",
    "version": 3
   },
   "file_extension": ".py",
   "mimetype": "text/x-python",
   "name": "python",
   "nbconvert_exporter": "python",
   "pygments_lexer": "ipython3",
   "version": "3.9.13"
  }
 },
 "nbformat": 4,
 "nbformat_minor": 5
}
