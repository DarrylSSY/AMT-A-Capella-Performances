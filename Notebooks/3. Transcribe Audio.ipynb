{
 "cells": [
  {
   "cell_type": "markdown",
   "metadata": {},
   "source": [
    "# Transcribe Audio\n",
    "In this notebook, we aim to:\n",
    "1. Transcribe lead vocal audio files of acapella songs into lyrics\n",
    "2. Get phrase-level timestamps of the lyrics\n",
    "\n",
    "We will be using the OpenAI Whisper model to acheive this. The accuracy of the model will be evaluated using the Jaccard Similarity Score."
   ]
  },
  {
   "cell_type": "markdown",
   "id": "0c94b630",
   "metadata": {},
   "source": [
    "# Install required packages "
   ]
  },
  {
   "cell_type": "code",
   "execution_count": 5,
   "id": "9fc8e058",
   "metadata": {},
   "outputs": [],
   "source": [
    "# !brew install ffmpeg\n",
    "# !pip install setuptools-rust\n",
    "# !pip install git+https://github.com/openai/whisper.git \n"
   ]
  },
  {
   "cell_type": "code",
   "execution_count": 6,
   "id": "e89f70a4",
   "metadata": {},
   "outputs": [],
   "source": [
    "import warnings\n",
    "warnings.filterwarnings('ignore')"
   ]
  },
  {
   "cell_type": "code",
   "execution_count": 7,
   "id": "32df1972",
   "metadata": {},
   "outputs": [],
   "source": [
    "import whisper\n",
    "\n",
    "# library source code here https://github.com/openai/whisper\n",
    "def transcribe_audio(audio_path, model=\"large\"):\n",
    "    # returns a dictionary with the text and the segments, contains the phrase level timestamps\n",
    "    model = whisper.load_model(model)\n",
    "    result = model.transcribe(audio_path)\n",
    "    extracted_data = [{\"start\": item[\"start\"], \"end\": item[\"end\"], \"text\": item[\"text\"]} for item in result['segments']]\n",
    "    return {'text': result['text'], 'segments': extracted_data}"
   ]
  },
  {
   "cell_type": "markdown",
   "id": "45490f81",
   "metadata": {},
   "source": [
    "# Test on Jacapella file Harugakita"
   ]
  },
  {
   "cell_type": "code",
   "execution_count": 8,
   "id": "6d87d3fb",
   "metadata": {},
   "outputs": [],
   "source": [
    "harugakita_path = \"Dataset/jaCappella_v1.1.0/neutral/harugakita/lead_vocal.wav\"\n",
    "actual_harugakita_lyrics = \"春が来た 春が来た どこに来た 山に来た 里に来た 野にも来た 鳥がなく 鳥がなく どこでなく 山でなく 里でなく 野でもなく 花がさく 花がさく どこにさく 山にさく 里にさく 野にもさく\""
   ]
  },
  {
   "cell_type": "markdown",
   "id": "4664237d",
   "metadata": {},
   "source": [
    "## Base model (~4.5s for a 50s Japanese wav audio file)"
   ]
  },
  {
   "cell_type": "code",
   "execution_count": 9,
   "id": "edd82018",
   "metadata": {},
   "outputs": [],
   "source": [
    "# Harugakita lyrics using base model\n",
    "base_harugakita = transcribe_audio(harugakita_path, \"base\")"
   ]
  },
  {
   "cell_type": "code",
   "execution_count": 46,
   "id": "1dab92d4",
   "metadata": {},
   "outputs": [
    {
     "name": "stdout",
     "output_type": "stream",
     "text": [
      "[{'start': 0.0, 'end': 13.14, 'text': 'ハルが来たハルが来たどこに来た'}, {'start': 13.14, 'end': 21.34, 'text': '山に来たさとに来たのにも来た'}, {'start': 21.34, 'end': 29.32, 'text': '花が咲く、花が咲くどこに咲く'}, {'start': 29.32, 'end': 38.0, 'text': '山に咲く、さとに咲くのにも咲く'}]\n"
     ]
    }
   ],
   "source": [
    "print(base_harugakita['segments'])"
   ]
  },
  {
   "cell_type": "markdown",
   "id": "055c28f8",
   "metadata": {},
   "source": [
    "## Large model (~1min 30s for a 50s Japanese wav audio file)"
   ]
  },
  {
   "cell_type": "code",
   "execution_count": 40,
   "id": "28d8a4f0",
   "metadata": {},
   "outputs": [
    {
     "name": "stdout",
     "output_type": "stream",
     "text": [
      "[{'start': 0.0, 'end': 7.0, 'text': '春が来た 春が来た どこに来た'}, {'start': 7.0, 'end': 15.0, 'text': '山に来た 里に来た 野にも来た'}, {'start': 15.0, 'end': 22.0, 'text': '花が咲く 花が咲く どこに咲く'}, {'start': 22.0, 'end': 29.0, 'text': '山に咲く 里に咲く 野にも咲く'}]\n"
     ]
    }
   ],
   "source": [
    "# Harugakita lyrics using large model\n",
    "large_harugakita = transcribe_audio(harugakita_path, \"large\")\n",
    "print(large_harugakita['segments'])"
   ]
  },
  {
   "cell_type": "markdown",
   "id": "0a02f3a4",
   "metadata": {},
   "source": [
    "# To test the accuracy of the models using Jaccard Similarity:"
   ]
  },
  {
   "cell_type": "code",
   "execution_count": 37,
   "id": "79bf7a40",
   "metadata": {},
   "outputs": [],
   "source": [
    "from nltk import ngrams\n",
    "\n",
    "# Function to calculate Jaccard similarity\n",
    "def jaccard_similarity(str1, str2, n=1):\n",
    "    # Tokenize the strings into n-grams\n",
    "    set1 = set(ngrams(str1, n))\n",
    "    set2 = set(ngrams(str2, n))\n",
    "    \n",
    "    # Calculate Jaccard similarity\n",
    "    intersection = len(set1.intersection(set2))\n",
    "    union = len(set1) + len(set2) - intersection\n",
    "    similarity = intersection / union\n",
    "    \n",
    "    \n",
    "    return similarity * 100"
   ]
  },
  {
   "cell_type": "code",
   "execution_count": 41,
   "id": "1926d4e7",
   "metadata": {},
   "outputs": [
    {
     "name": "stdout",
     "output_type": "stream",
     "text": [
      "Base model accuracy for Jacapella Harugakita audiofile: 45.83%\n",
      "Large model accuracy for Jacapella Harugakita audiofile: 73.68%\n"
     ]
    }
   ],
   "source": [
    "print(f\"Base model accuracy for Jacapella Harugakita audiofile: {round(jaccard_similarity(actual_harugakita_lyrics, base_harugakita['text'], 1),2)}%\")\n",
    "print(f\"Large model accuracy for Jacapella Harugakita audiofile: {round(jaccard_similarity(actual_harugakita_lyrics, large_harugakita['text'], 1),2)}%\")"
   ]
  },
  {
   "cell_type": "code",
   "execution_count": 1,
   "id": "d5cdcce7",
   "metadata": {},
   "outputs": [],
   "source": [
    "def wer(actual_lyrics, model_lyrics):\n",
    "  # Split the lyrics into words.\n",
    "  actual_words = actual_lyrics.split()\n",
    "  model_words = model_lyrics.split()\n",
    "\n",
    "  # Calculate the number of insertions, deletions, and substitutions.\n",
    "  insertions = 0\n",
    "  deletions = 0\n",
    "  substitutions = 0\n",
    "  for i in range(len(actual_words)):\n",
    "    if i < len(model_words):\n",
    "      if actual_words[i] != model_words[i]:\n",
    "        substitutions += 1\n",
    "    else:\n",
    "      deletions += 1\n",
    "\n",
    "  # Calculate the word error rate.\n",
    "  wer = (insertions + deletions + substitutions) / len(actual_words) * 100\n",
    "\n",
    "  return wer"
   ]
  },
  {
   "cell_type": "code",
   "execution_count": 42,
   "metadata": {},
   "outputs": [],
   "source": [
    "# path for /popular/kutsuganaru\n",
    "kutsuganaru_path = \"Dataset/jaCappella_v1.1.0/popular/kutsuganaru/lead_vocal.wav\"   \n",
    "actual_kutsuganaru_lyrics = \"お手（てて）つないで野道を行（ゆ）けばみんな可愛（かわ）い小鳥になつて 歌をうたへば靴が鳴る晴れたみ空に靴が鳴る 花をつんではお頭（つむ）にさせばみんな可愛（かわ）いうさぎになつてはねて踊れば靴が鳴る晴れたみ空に靴が鳴る\""
   ]
  },
  {
   "cell_type": "code",
   "execution_count": 43,
   "metadata": {},
   "outputs": [],
   "source": [
    "base_kutsuganaru = transcribe_audio(kutsuganaru_path, \"base\")"
   ]
  },
  {
   "cell_type": "code",
   "execution_count": 44,
   "metadata": {},
   "outputs": [
    {
     "name": "stdout",
     "output_type": "stream",
     "text": [
      "漂いみんな可愛いことりになって歌を歌えば靴が鳴る晴れたみ空に靴が鳴る\n"
     ]
    }
   ],
   "source": [
    "\n",
    "print(base_kutsuganaru['text'])"
   ]
  },
  {
   "cell_type": "code",
   "execution_count": 45,
   "metadata": {},
   "outputs": [
    {
     "name": "stdout",
     "output_type": "stream",
     "text": [
      "おててつないでのみちをゆけばみんなかわいいことりになるおててつないでのみちをゆけばみんなかわいいことりになってうたをうたえばくつがなるはれたみそらにくつがなるたらたらたたらたたたたはー\n"
     ]
    }
   ],
   "source": [
    "large_kutsuganaru = transcribe_audio(kutsuganaru_path, \"large\")\n",
    "print(large_kutsuganaru['text'])\n"
   ]
  },
  {
   "cell_type": "code",
   "execution_count": 46,
   "metadata": {},
   "outputs": [
    {
     "name": "stdout",
     "output_type": "stream",
     "text": [
      "Base model accuracy for Jacapella Kutsuganaru audiofile: 36.54%\n",
      "Large model accuracy for Jacapella Kutsuganaru audiofile: 36.84%\n"
     ]
    }
   ],
   "source": [
    "# jaccard\n",
    "print(f\"Base model accuracy for Jacapella Kutsuganaru audiofile: {round(jaccard_similarity(actual_kutsuganaru_lyrics, base_kutsuganaru['text'], 1),2)}%\")\n",
    "print(f\"Large model accuracy for Jacapella Kutsuganaru audiofile: {round(jaccard_similarity(actual_kutsuganaru_lyrics, large_kutsuganaru['text'], 1),2)}%\")"
   ]
  },
  {
   "cell_type": "code",
   "execution_count": null,
   "metadata": {},
   "outputs": [],
   "source": []
  }
 ],
 "metadata": {
  "kernelspec": {
   "display_name": "base",
   "language": "python",
   "name": "python3"
  },
  "language_info": {
   "codemirror_mode": {
    "name": "ipython",
    "version": 3
   },
   "file_extension": ".py",
   "mimetype": "text/x-python",
   "name": "python",
   "nbconvert_exporter": "python",
   "pygments_lexer": "ipython3",
   "version": "3.9.13"
  }
 },
 "nbformat": 4,
 "nbformat_minor": 5
}
