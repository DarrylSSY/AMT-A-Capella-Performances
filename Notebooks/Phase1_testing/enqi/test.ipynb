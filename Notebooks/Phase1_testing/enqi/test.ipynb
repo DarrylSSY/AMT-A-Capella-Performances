{
 "cells": [
  {
   "cell_type": "code",
   "execution_count": 2,
   "metadata": {},
   "outputs": [
    {
     "ename": "ModuleNotFoundError",
     "evalue": "No module named 'pretty_midi'",
     "output_type": "error",
     "traceback": [
      "\u001b[1;31m---------------------------------------------------------------------------\u001b[0m",
      "\u001b[1;31mModuleNotFoundError\u001b[0m                       Traceback (most recent call last)",
      "\u001b[1;32mc:\\Users\\Enqi\\Documents\\GitHub\\IS424\\Notebooks\\test.ipynb Cell 1\u001b[0m line \u001b[0;36m2\n\u001b[0;32m      <a href='vscode-notebook-cell:/c%3A/Users/Enqi/Documents/GitHub/IS424/Notebooks/test.ipynb#W0sZmlsZQ%3D%3D?line=0'>1</a>\u001b[0m \u001b[39mimport\u001b[39;00m \u001b[39mlibrosa\u001b[39;00m\n\u001b[1;32m----> <a href='vscode-notebook-cell:/c%3A/Users/Enqi/Documents/GitHub/IS424/Notebooks/test.ipynb#W0sZmlsZQ%3D%3D?line=1'>2</a>\u001b[0m \u001b[39mimport\u001b[39;00m \u001b[39mpretty_midi\u001b[39;00m\n\u001b[0;32m      <a href='vscode-notebook-cell:/c%3A/Users/Enqi/Documents/GitHub/IS424/Notebooks/test.ipynb#W0sZmlsZQ%3D%3D?line=3'>4</a>\u001b[0m \u001b[39m# Load audio file using librosa\u001b[39;00m\n\u001b[0;32m      <a href='vscode-notebook-cell:/c%3A/Users/Enqi/Documents/GitHub/IS424/Notebooks/test.ipynb#W0sZmlsZQ%3D%3D?line=4'>5</a>\u001b[0m audio_file_path \u001b[39m=\u001b[39m \u001b[39m'\u001b[39m\u001b[39mpath_to_your_audio_file.wav\u001b[39m\u001b[39m'\u001b[39m  \u001b[39m# Replace with the path to your audio file\u001b[39;00m\n",
      "\u001b[1;31mModuleNotFoundError\u001b[0m: No module named 'pretty_midi'"
     ]
    }
   ],
   "source": [
    "import librosa\n",
    "import pretty_midi\n",
    "\n",
    "# Load audio file using librosa\n",
    "audio_file_path = 'path_to_your_audio_file.wav'  # Replace with the path to your audio file\n",
    "y, sr = librosa.load(audio_file_path)\n",
    "\n",
    "# Extract pitch and beat information using librosa\n",
    "pitches, magnitudes = librosa.core.piptrack(y=y, sr=sr)  # Extract pitch information\n",
    "times = librosa.times_like(pitches)  # Get times corresponding to the pitch information\n",
    "\n",
    "# Create a PrettyMIDI object\n",
    "midi_data = pretty_midi.PrettyMIDI()\n",
    "\n",
    "# Create an Instrument instance for the piano (program number 0)\n",
    "piano_program = pretty_midi.instrument_name_to_program('Acoustic Grand Piano')\n",
    "piano = pretty_midi.Instrument(program=piano_program)\n",
    "\n",
    "# Add notes to the Instrument instance based on the pitch information\n",
    "for pitch, magnitude, time in zip(pitches, magnitudes, times):\n",
    "    if magnitude > 0:  # Consider only points with magnitude greater than 0\n",
    "        note_number = int(round(librosa.core.midi_to_note(pitch)))  # Convert MIDI pitch to note number\n",
    "        velocity = int(magnitude * 127)  # Scale magnitude to velocity (0-127 range)\n",
    "        note = pretty_midi.Note(velocity=velocity, pitch=note_number, start=time, end=time + 0.1)  # Create note\n",
    "        piano.notes.append(note)  # Add note to the Instrument instance\n",
    "\n",
    "# Add the piano Instrument to the MIDI data\n",
    "midi_data.instruments.append(piano)\n",
    "\n",
    "# Save the MIDI data to a file\n",
    "midi_file_path = 'output.mid'  # Specify the path where you want to save the MIDI file\n",
    "midi_data.write(midi_file_path)\n"
   ]
  },
  {
   "cell_type": "code",
   "execution_count": 4,
   "metadata": {},
   "outputs": [
    {
     "ename": "ModuleNotFoundError",
     "evalue": "No module named 'mido'",
     "output_type": "error",
     "traceback": [
      "\u001b[1;31m---------------------------------------------------------------------------\u001b[0m",
      "\u001b[1;31mModuleNotFoundError\u001b[0m                       Traceback (most recent call last)",
      "\u001b[1;32mc:\\Users\\Enqi\\Documents\\GitHub\\IS424\\Notebooks\\test.ipynb Cell 2\u001b[0m line \u001b[0;36m4\n\u001b[0;32m      <a href='vscode-notebook-cell:/c%3A/Users/Enqi/Documents/GitHub/IS424/Notebooks/test.ipynb#W1sZmlsZQ%3D%3D?line=1'>2</a>\u001b[0m \u001b[39mimport\u001b[39;00m \u001b[39mnumpy\u001b[39;00m \u001b[39mas\u001b[39;00m \u001b[39mnp\u001b[39;00m\n\u001b[0;32m      <a href='vscode-notebook-cell:/c%3A/Users/Enqi/Documents/GitHub/IS424/Notebooks/test.ipynb#W1sZmlsZQ%3D%3D?line=2'>3</a>\u001b[0m \u001b[39mfrom\u001b[39;00m \u001b[39mscipy\u001b[39;00m\u001b[39m.\u001b[39;00m\u001b[39msignal\u001b[39;00m \u001b[39mimport\u001b[39;00m find_peaks\n\u001b[1;32m----> <a href='vscode-notebook-cell:/c%3A/Users/Enqi/Documents/GitHub/IS424/Notebooks/test.ipynb#W1sZmlsZQ%3D%3D?line=3'>4</a>\u001b[0m \u001b[39mimport\u001b[39;00m \u001b[39mmido\u001b[39;00m\n\u001b[0;32m      <a href='vscode-notebook-cell:/c%3A/Users/Enqi/Documents/GitHub/IS424/Notebooks/test.ipynb#W1sZmlsZQ%3D%3D?line=4'>5</a>\u001b[0m \u001b[39mfrom\u001b[39;00m \u001b[39mmido\u001b[39;00m \u001b[39mimport\u001b[39;00m Message, MidiFile, MidiTrack\n\u001b[0;32m      <a href='vscode-notebook-cell:/c%3A/Users/Enqi/Documents/GitHub/IS424/Notebooks/test.ipynb#W1sZmlsZQ%3D%3D?line=6'>7</a>\u001b[0m \u001b[39m# Load the audio file\u001b[39;00m\n",
      "\u001b[1;31mModuleNotFoundError\u001b[0m: No module named 'mido'"
     ]
    }
   ],
   "source": [
    "import librosa\n",
    "import numpy as np\n",
    "from scipy.signal import find_peaks\n",
    "import mido\n",
    "from mido import Message, MidiFile, MidiTrack\n",
    "\n",
    "# Load the audio file\n",
    "audio_file_path = 'path_to_your_audio_file.wav'  # Replace with the path to your audio file\n",
    "y, sr = librosa.load(audio_file_path)\n",
    "\n",
    "# Function to extract fundamental frequency using PYIN pitch detection\n",
    "def extract_fundamental_frequency(y, sr):\n",
    "    # Use librosa's PYIN pitch detection algorithm\n",
    "    pitches, magnitudes = librosa.core.piptrack(y=y, sr=sr)\n",
    "    pitches = np.asarray(pitches)\n",
    "\n",
    "    # Extract the fundamental frequency (lowest non-zero pitch)\n",
    "    fundamental_frequency = pitches[np.any(pitches > 0, axis=1)].min(axis=1)\n",
    "\n",
    "    # Remove zeros (unvoiced frames) from the fundamental frequency array\n",
    "    fundamental_frequency = fundamental_frequency[fundamental_frequency > 0]\n",
    "\n",
    "    return fundamental_frequency\n",
    "\n",
    "# Extract fundamental frequency from the audio\n",
    "fundamental_frequency = extract_fundamental_frequency(y, sr)\n",
    "\n",
    "# Convert fundamental frequency to MIDI notes\n",
    "def frequency_to_midi(frequency):\n",
    "    return 69 + 12 * np.log2(frequency / 440.0)\n",
    "\n",
    "midi_notes = list(map(int, np.round(frequency_to_midi(fundamental_frequency))))\n",
    "\n",
    "# Create a MIDI file with the extracted notes\n",
    "midi_file_path = 'output.mid'  # Specify the path where you want to save the MIDI file\n",
    "midi = MidiFile()\n",
    "track = MidiTrack()\n",
    "midi.tracks.append(track)\n",
    "\n",
    "for note in midi_notes:\n",
    "    track.append(Message('note_on', note=note, velocity=64, time=100))  # Adjust time and velocity as needed\n",
    "    track.append(Message('note_off', note=note, velocity=64, time=100))  # Adjust time as needed\n",
    "\n",
    "# Save the MIDI file\n",
    "midi.save(midi_file_path)\n"
   ]
  }
 ],
 "metadata": {
  "kernelspec": {
   "display_name": "base",
   "language": "python",
   "name": "python3"
  },
  "language_info": {
   "codemirror_mode": {
    "name": "ipython",
    "version": 3
   },
   "file_extension": ".py",
   "mimetype": "text/x-python",
   "name": "python",
   "nbconvert_exporter": "python",
   "pygments_lexer": "ipython3",
   "version": "3.9.13"
  }
 },
 "nbformat": 4,
 "nbformat_minor": 2
}
