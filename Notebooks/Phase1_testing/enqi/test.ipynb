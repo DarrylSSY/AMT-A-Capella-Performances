{
 "cells": [
  {
   "cell_type": "code",
   "execution_count": 1,
   "metadata": {},
   "outputs": [
    {
     "ename": "ValueError",
     "evalue": "The truth value of an array with more than one element is ambiguous. Use a.any() or a.all()",
     "output_type": "error",
     "traceback": [
      "\u001b[1;31m---------------------------------------------------------------------------\u001b[0m",
      "\u001b[1;31mValueError\u001b[0m                                Traceback (most recent call last)",
      "\u001b[1;32mc:\\Users\\Joel\\Documents\\Github\\IS424\\Notebooks\\Phase1_testing\\enqi\\test.ipynb Cell 1\u001b[0m line \u001b[0;36m2\n\u001b[0;32m     <a href='vscode-notebook-cell:/c%3A/Users/Joel/Documents/Github/IS424/Notebooks/Phase1_testing/enqi/test.ipynb#W0sZmlsZQ%3D%3D?line=18'>19</a>\u001b[0m \u001b[39m# Add notes to the Instrument instance based on the pitch information\u001b[39;00m\n\u001b[0;32m     <a href='vscode-notebook-cell:/c%3A/Users/Joel/Documents/Github/IS424/Notebooks/Phase1_testing/enqi/test.ipynb#W0sZmlsZQ%3D%3D?line=19'>20</a>\u001b[0m \u001b[39mfor\u001b[39;00m pitch, magnitude, time \u001b[39min\u001b[39;00m \u001b[39mzip\u001b[39m(pitches, magnitudes, times):\n\u001b[1;32m---> <a href='vscode-notebook-cell:/c%3A/Users/Joel/Documents/Github/IS424/Notebooks/Phase1_testing/enqi/test.ipynb#W0sZmlsZQ%3D%3D?line=20'>21</a>\u001b[0m     \u001b[39mif\u001b[39;00m magnitude \u001b[39m>\u001b[39m \u001b[39m0\u001b[39m:  \u001b[39m# Consider only points with magnitude greater than 0\u001b[39;00m\n\u001b[0;32m     <a href='vscode-notebook-cell:/c%3A/Users/Joel/Documents/Github/IS424/Notebooks/Phase1_testing/enqi/test.ipynb#W0sZmlsZQ%3D%3D?line=21'>22</a>\u001b[0m         note_number \u001b[39m=\u001b[39m \u001b[39mint\u001b[39m(\u001b[39mround\u001b[39m(librosa\u001b[39m.\u001b[39mcore\u001b[39m.\u001b[39mmidi_to_note(pitch)))  \u001b[39m# Convert MIDI pitch to note number\u001b[39;00m\n\u001b[0;32m     <a href='vscode-notebook-cell:/c%3A/Users/Joel/Documents/Github/IS424/Notebooks/Phase1_testing/enqi/test.ipynb#W0sZmlsZQ%3D%3D?line=22'>23</a>\u001b[0m         velocity \u001b[39m=\u001b[39m \u001b[39mint\u001b[39m(magnitude \u001b[39m*\u001b[39m \u001b[39m127\u001b[39m)  \u001b[39m# Scale magnitude to velocity (0-127 range)\u001b[39;00m\n",
      "\u001b[1;31mValueError\u001b[0m: The truth value of an array with more than one element is ambiguous. Use a.any() or a.all()"
     ]
    }
   ],
   "source": [
    "import librosa\n",
    "import pretty_midi\n",
    "\n",
    "# Load audio file using librosa\n",
    "audio_file_path = '../audio/alto.wav'  # Replace with the path to your audio file\n",
    "y, sr = librosa.load(audio_file_path)\n",
    "\n",
    "# Extract pitch and beat information using librosa\n",
    "pitches, magnitudes = librosa.core.piptrack(y=y, sr=sr)  # Extract pitch information\n",
    "times = librosa.times_like(pitches)  # Get times corresponding to the pitch information\n",
    "\n",
    "# Create a PrettyMIDI object\n",
    "midi_data = pretty_midi.PrettyMIDI()\n",
    "\n",
    "# Create an Instrument instance for the piano (program number 0)\n",
    "piano_program = pretty_midi.instrument_name_to_program('Acoustic Grand Piano')\n",
    "piano = pretty_midi.Instrument(program=piano_program)\n",
    "\n",
    "# Add notes to the Instrument instance based on the pitch information\n",
    "for pitch, magnitude, time in zip(pitches, magnitudes, times):\n",
    "    if magnitude > 0:  # Consider only points with magnitude greater than 0\n",
    "        note_number = int(round(librosa.core.midi_to_note(pitch)))  # Convert MIDI pitch to note number\n",
    "        velocity = int(magnitude * 127)  # Scale magnitude to velocity (0-127 range)\n",
    "        note = pretty_midi.Note(velocity=velocity, pitch=note_number, start=time, end=time + 0.1)  # Create note\n",
    "        piano.notes.append(note)  # Add note to the Instrument instance\n",
    "\n",
    "# Add the piano Instrument to the MIDI data\n",
    "midi_data.instruments.append(piano)\n",
    "\n",
    "# Save the MIDI data to a file\n",
    "midi_file_path = 'output.mid'  # Specify the path where you want to save the MIDI file\n",
    "midi_data.write(midi_file_path)\n"
   ]
  },
  {
   "cell_type": "code",
   "execution_count": 12,
   "metadata": {},
   "outputs": [],
   "source": [
    "import librosa\n",
    "import numpy as np\n",
    "from scipy.signal import find_peaks\n",
    "import mido\n",
    "from mido import Message, MidiFile, MidiTrack\n",
    "\n",
    "# Load the audio file\n",
    "audio_file_path = '../audio/alto.wav'  # Replace with the path to your audio file\n",
    "y, sr = librosa.load(audio_file_path)\n",
    "\n",
    "# Function to extract fundamental frequency using PYIN pitch detection\n",
    "def extract_fundamental_frequency(y, sr):\n",
    "    # Use librosa's PYIN pitch detection algorithm\n",
    "    pitches, magnitudes = librosa.core.piptrack(y=y, sr=sr)\n",
    "    pitches = np.asarray(pitches)\n",
    "\n",
    "    # Extract the fundamental frequency (lowest non-zero pitch)\n",
    "    fundamental_frequency = pitches[np.any(pitches > 0, axis=1)].min(axis=1)\n",
    "\n",
    "    # Remove zeros (unvoiced frames) from the fundamental frequency array\n",
    "    fundamental_frequency = fundamental_frequency[fundamental_frequency > 0]\n",
    "\n",
    "    return fundamental_frequency\n",
    "\n",
    "# Extract fundamental frequency from the audio\n",
    "fundamental_frequency = extract_fundamental_frequency(y, sr)\n",
    "\n",
    "# Convert fundamental frequency to MIDI notes\n",
    "def frequency_to_midi(frequency):\n",
    "    return 69 + 12 * np.log2(frequency / 440.0)\n",
    "\n",
    "midi_notes = list(map(int, np.round(frequency_to_midi(fundamental_frequency))))\n",
    "\n",
    "# Create a MIDI file with the extracted notes\n",
    "midi_file_path = 'output.mid'  # Specify the path where you want to save the MIDI file\n",
    "midi = MidiFile()\n",
    "track = MidiTrack()\n",
    "midi.tracks.append(track)\n",
    "\n",
    "for note in midi_notes:\n",
    "    track.append(Message('note_on', note=note, velocity=64, time=100))  # Adjust time and velocity as needed\n",
    "    track.append(Message('note_off', note=note, velocity=64, time=100))  # Adjust time as needed\n",
    "\n",
    "# Save the MIDI file\n",
    "midi.save(midi_file_path)\n"
   ]
  },
  {
   "cell_type": "code",
   "execution_count": null,
   "metadata": {},
   "outputs": [],
   "source": []
  }
 ],
 "metadata": {
  "kernelspec": {
   "display_name": "base",
   "language": "python",
   "name": "python3"
  },
  "language_info": {
   "codemirror_mode": {
    "name": "ipython",
    "version": 3
   },
   "file_extension": ".py",
   "mimetype": "text/x-python",
   "name": "python",
   "nbconvert_exporter": "python",
   "pygments_lexer": "ipython3",
   "version": "3.11.5"
  }
 },
 "nbformat": 4,
 "nbformat_minor": 2
}
