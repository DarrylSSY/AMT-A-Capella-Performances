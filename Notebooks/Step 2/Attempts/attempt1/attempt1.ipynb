{
 "cells": [
  {
   "cell_type": "code",
   "execution_count": 1,
   "metadata": {},
   "outputs": [],
   "source": [
    "import librosa\n",
    "from midiutil import MIDIFile\n",
    "from scipy.signal import find_peaks\n",
    "from scipy.spatial.distance import cdist\n",
    "import numpy as np\n",
    "from IPython.display import display"
   ]
  },
  {
   "cell_type": "code",
   "execution_count": 3,
   "metadata": {},
   "outputs": [],
   "source": [
    "# Load the WAV file\n",
    "wav_file = 'C:/Users/Enqi/Documents/GitHub/IS424/Notebooks/Step 2/Attempts/attempt1/alto.wav'\n",
    "audio, sample_rate = librosa.load(wav_file)\n",
    "\n",
    "# Extract Pitch and Timing Information\n",
    "def extract_pitch_and_timing(audio, sample_rate):\n",
    "    pitches, magnitudes = librosa.piptrack(y=audio, sr=sample_rate)\n",
    "    pitch_peaks, _ = find_peaks(pitches[0])\n",
    "\n",
    "    # Find timing information\n",
    "    onset_env = librosa.onset.onset_strength(y=audio, sr=sample_rate)\n",
    "    onsets = librosa.onset.onset_detect(onset_envelope=onset_env)\n",
    "\n",
    "    return pitch_peaks, onsets\n",
    "\n",
    "\n",
    "# Create MIDI Notes\n",
    "def create_midi_notes(pitch_peaks, onsets):\n",
    "    midi_notes = []\n",
    "\n",
    "    for i in range(len(pitch_peaks)):\n",
    "        note = int(pitches[0][i])\n",
    "        start_time = onsets[i] / sample_rate\n",
    "        end_time = onsets[i + 1] / sample_rate if i + 1 < len(onsets) else onsets[-1] / sample_rate\n",
    "        duration = end_time - start_time\n",
    "\n",
    "        display(f\"Note: {note}, Start Time: {start_time}, Duration: {duration}\")\n",
    "\n",
    "        midi_notes.append({\n",
    "            'note': note,\n",
    "            'start_time': start_time,\n",
    "            'duration': duration,\n",
    "            'velocity': 64  # Adjust the velocity as needed\n",
    "        })\n",
    "\n",
    "    return midi_notes\n",
    "\n",
    "pitches, timing = extract_pitch_and_timing(audio, sample_rate)\n",
    "\n",
    "def create_midi_file(midi_notes):\n",
    "    mid = MIDIFile()\n",
    "    track = 0\n",
    "\n",
    "    for note in midi_notes:\n",
    "        channel = 0\n",
    "        time = note['start_time']\n",
    "        duration = note['duration']\n",
    "        pitch = note['note']\n",
    "        velocity = note['velocity']\n",
    "\n",
    "        mid.addNote(track, channel, pitch, time, duration, velocity)\n",
    "\n",
    "    return mid\n",
    "\n",
    "# Save the MIDI File\n",
    "output_midi_file = 'attempt1.mid'\n",
    "midi_notes = create_midi_notes(pitches, timing)\n",
    "midi_file = create_midi_file(midi_notes)\n",
    "with open(output_midi_file, \"wb\") as output_file:\n",
    "    midi_file.writeFile(output_file)\n"
   ]
  },
  {
   "cell_type": "code",
   "execution_count": null,
   "metadata": {},
   "outputs": [],
   "source": [
    "# empty midi file is created\n"
   ]
  }
 ],
 "metadata": {
  "kernelspec": {
   "display_name": "Python 3",
   "language": "python",
   "name": "python3"
  },
  "language_info": {
   "codemirror_mode": {
    "name": "ipython",
    "version": 3
   },
   "file_extension": ".py",
   "mimetype": "text/x-python",
   "name": "python",
   "nbconvert_exporter": "python",
   "pygments_lexer": "ipython3",
   "version": "3.11.5"
  }
 },
 "nbformat": 4,
 "nbformat_minor": 2
}
